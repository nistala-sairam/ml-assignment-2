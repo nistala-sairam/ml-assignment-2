{
  "nbformat": 4,
  "nbformat_minor": 0,
  "metadata": {
    "colab": {
      "provenance": []
    },
    "kernelspec": {
      "name": "python3",
      "display_name": "Python 3"
    },
    "language_info": {
      "name": "python"
    }
  },
  "cells": [
    {
      "cell_type": "code",
      "execution_count": 1,
      "metadata": {
        "colab": {
          "base_uri": "https://localhost:8080/"
        },
        "id": "ivIiMULW_8yJ",
        "outputId": "bc814eac-ffaf-4fa4-9c97-e525e38325b6"
      },
      "outputs": [
        {
          "output_type": "stream",
          "name": "stdout",
          "text": [
            "* \n",
            "* * \n",
            "* * * \n",
            "* * * * \n",
            "* * * * * \n",
            "* * * * \n",
            "* * * \n",
            "* * \n",
            "* \n"
          ]
        }
      ],
      "source": [
        "for i in range (1,10):\n",
        "    if(i<6):\n",
        "        for j in range(0,i):\n",
        "            print(\"*\",end=\" \")\n",
        "        print(\"\")\n",
        "    else:\n",
        "        x=i-5\n",
        "        for j in range(0,5-x):\n",
        "            print(\"*\",end=\" \")\n",
        "        print(\"\")"
      ]
    },
    {
      "cell_type": "code",
      "source": [
        "my_list = [10, 20, 30, 40, 50, 60, 70, 80, 90, 100]\n",
        "for i in range(0,len(my_list)):\n",
        "    if(i%2==1):\n",
        "        print(my_list[i])"
      ],
      "metadata": {
        "colab": {
          "base_uri": "https://localhost:8080/"
        },
        "id": "432QoVnPATn4",
        "outputId": "e77b2abc-0f74-436c-8ed5-1ff6e5caa178"
      },
      "execution_count": 2,
      "outputs": [
        {
          "output_type": "stream",
          "name": "stdout",
          "text": [
            "20\n",
            "40\n",
            "60\n",
            "80\n",
            "100\n"
          ]
        }
      ]
    },
    {
      "cell_type": "code",
      "source": [
        "x = [23, 'Python', 23.98]\n",
        "xt=[]\n",
        "for i in x:\n",
        "    xt.append(type(i))\n",
        "print(x)\n",
        "print(xt)"
      ],
      "metadata": {
        "colab": {
          "base_uri": "https://localhost:8080/"
        },
        "id": "tkoPcGTqAXqP",
        "outputId": "87e8cec0-5308-41d1-c01f-f96e00d64106"
      },
      "execution_count": 3,
      "outputs": [
        {
          "output_type": "stream",
          "name": "stdout",
          "text": [
            "[23, 'Python', 23.98]\n",
            "[<class 'int'>, <class 'str'>, <class 'float'>]\n"
          ]
        }
      ]
    },
    {
      "cell_type": "code",
      "source": [
        "Sample_List=[1,2,3,3,3,3,4,5]\n",
        "Unique_List=list(set(Sample_List))\n",
        "print(Unique_List)"
      ],
      "metadata": {
        "colab": {
          "base_uri": "https://localhost:8080/"
        },
        "id": "hIn5rq-HAcNW",
        "outputId": "59acf757-012e-481b-adc7-62b8b76be49f"
      },
      "execution_count": 4,
      "outputs": [
        {
          "output_type": "stream",
          "name": "stdout",
          "text": [
            "[1, 2, 3, 4, 5]\n"
          ]
        }
      ]
    },
    {
      "cell_type": "code",
      "source": [
        "Input_String='The quick Brow Fox' #input()\n",
        "uppercasealpha=0\n",
        "lowercasealpha=0\n",
        "for i in Input_String:\n",
        "    if(i.isupper()):\n",
        "        uppercasealpha+=1\n",
        "    else:\n",
        "        if(i.islower()):\n",
        "            lowercasealpha+=1\n",
        "print(\"No. of Upper-case characters: \"+str(uppercasealpha))\n",
        "print(\"No. of Lowwer-case characters: \"+str(lowercasealpha))"
      ],
      "metadata": {
        "colab": {
          "base_uri": "https://localhost:8080/"
        },
        "id": "PedslMrCAha-",
        "outputId": "e62d7e0f-3566-4605-e0b1-2086c969bad5"
      },
      "execution_count": 5,
      "outputs": [
        {
          "output_type": "stream",
          "name": "stdout",
          "text": [
            "No. of Upper-case characters: 3\n",
            "No. of Lowwer-case characters: 12\n"
          ]
        }
      ]
    }
  ]
}